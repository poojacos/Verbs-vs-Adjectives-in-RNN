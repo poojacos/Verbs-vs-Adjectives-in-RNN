{
 "cells": [
  {
   "cell_type": "code",
   "execution_count": 22,
   "metadata": {
    "collapsed": false
   },
   "outputs": [],
   "source": [
    "import numpy as np\n",
    "import os\n",
    "import tensorflow  as tf\n",
    "from sklearn.model_selection import train_test_split\n",
    "from keras.preprocessing.sequence import pad_sequences\n",
    "import keras \n",
    "from keras.layers import LSTM, Dense\n",
    "from keras.preprocessing.text import one_hot\n",
    "from keras.models import Sequential\n",
    "from keras.layers import Activation, Dropout, Flatten, Dense\n",
    "from keras.layers import Dense\n",
    "from keras.layers import Flatten\n",
    "from keras.layers.embeddings import Embedding\n",
    "np.random.seed(420)\n",
    "path='C:/Users/Lenovo/Desktop/iadap/3-2/NN/lab4'\n",
    "adj=os.path.join(path,\"adjectives.txt\")\n",
    "verb=os.path.join(path,\"verbs.txt\")\n",
    "list1=open(adj).read().lower()\n",
    "list1=list1.split(\"\\n\")\n",
    "list2=open(verb).read().lower()\n",
    "list2=list2.split(\"\\n\")\n",
    "y=[]\n",
    "for i in range(len(list1)):\n",
    "    y.append(0)\n",
    "for i in range(len(list2)):\n",
    "    y.append(1)\n",
    "for i in range(len(list2)):\n",
    "    list1.append(list2[i])\n",
    "len(list1) \n",
    "num=[]\n",
    "for i in range(len(list1)):\n",
    "    num.append(i)"
   ]
  },
  {
   "cell_type": "code",
   "execution_count": 41,
   "metadata": {
    "collapsed": false
   },
   "outputs": [
    {
     "name": "stdout",
     "output_type": "stream",
     "text": [
      "[  97.   45.  111.  107.    0.    0.    0.    0.    0.    0.    0.    0.\n",
      "    0.    0.    0.    0.    0.    0.    0.    0.    0.    0.    0.]\n"
     ]
    }
   ],
   "source": [
    "vocab_size=len(list1)\n",
    "encoded_docs = np.zeros((vocab_size,23))\n",
    "\n",
    "for i in range(vocab_size):\n",
    "    for j in range(len(list1[i])):\n",
    "        encoded_docs[i][j]=ord(list1[i][j]) \n",
    "print(encoded_docs[0])        "
   ]
  },
  {
   "cell_type": "code",
   "execution_count": 75,
   "metadata": {
    "collapsed": false
   },
   "outputs": [],
   "source": [
    "max_length = 23\n",
    "padded_docs=np.asarray(encoded_docs)\n",
    "y=np.array(y)\n",
    "#padded_docs.reshape(padded_docs.shape[0],padded_docs.shape[1],1)\n",
    "X_train, X_test, y_train, y_test = train_test_split(padded_docs, y, test_size=0.20, random_state=420)\n",
    "X_train/=255.\n",
    "X_test/=255."
   ]
  },
  {
   "cell_type": "code",
   "execution_count": 79,
   "metadata": {
    "collapsed": false
   },
   "outputs": [
    {
     "name": "stdout",
     "output_type": "stream",
     "text": [
      "_________________________________________________________________\n",
      "Layer (type)                 Output Shape              Param #   \n",
      "=================================================================\n",
      "embedding_14 (Embedding)     (None, 23, 100)           2964300   \n",
      "_________________________________________________________________\n",
      "lstm_28 (LSTM)               (None, 64)                42240     \n",
      "_________________________________________________________________\n",
      "dropout_24 (Dropout)         (None, 64)                0         \n",
      "_________________________________________________________________\n",
      "dense_11 (Dense)             (None, 1)                 65        \n",
      "=================================================================\n",
      "Total params: 3,006,605\n",
      "Trainable params: 3,006,605\n",
      "Non-trainable params: 0\n",
      "_________________________________________________________________\n",
      "None\n",
      "Train on 29643 samples, validate on 5929 samples\n",
      "Epoch 1/10\n",
      "29643/29643 [==============================] - 68s - loss: 0.5393 - acc: 0.7201 - val_loss: 1.0985 - val_acc: 0.5119\n",
      "Epoch 2/10\n",
      "29643/29643 [==============================] - 66s - loss: 0.4278 - acc: 0.7886 - val_loss: 0.9791 - val_acc: 0.5119\n",
      "Epoch 3/10\n",
      "29643/29643 [==============================] - 66s - loss: 0.3853 - acc: 0.8100 - val_loss: 1.0081 - val_acc: 0.5119\n",
      "Epoch 4/10\n",
      "29643/29643 [==============================] - 66s - loss: 0.3626 - acc: 0.8255 - val_loss: 0.8642 - val_acc: 0.5119\n",
      "Epoch 5/10\n",
      "29643/29643 [==============================] - 66s - loss: 0.3463 - acc: 0.8342 - val_loss: 1.0605 - val_acc: 0.5119\n",
      "Epoch 6/10\n",
      "29643/29643 [==============================] - 66s - loss: 0.3361 - acc: 0.8393 - val_loss: 0.8495 - val_acc: 0.5119\n",
      "Epoch 7/10\n",
      "29643/29643 [==============================] - 66s - loss: 0.3298 - acc: 0.8441 - val_loss: 0.9236 - val_acc: 0.5119\n",
      "Epoch 8/10\n",
      "29643/29643 [==============================] - 66s - loss: 0.3230 - acc: 0.8464 - val_loss: 0.9211 - val_acc: 0.5119\n",
      "Epoch 9/10\n",
      "29643/29643 [==============================] - 66s - loss: 0.3199 - acc: 0.8491 - val_loss: 0.9617 - val_acc: 0.5119\n",
      "Epoch 10/10\n",
      "29643/29643 [==============================] - 66s - loss: 0.3132 - acc: 0.8531 - val_loss: 0.9023 - val_acc: 0.5119\n",
      "29504/29643 [============================>.] - ETA: 0sAccuracy: 85.386095\n"
     ]
    }
   ],
   "source": [
    "model = Sequential()\n",
    "#model.add(Embedding(vocab_size, 8))\n",
    "model.add(Embedding(vocab_size, 100, input_length=23))\n",
    "model.add(LSTM(64))\n",
    "model.add(Dropout(0.2))\n",
    "model.add(Dense(1, activation='sigmoid'))\n",
    "# compile the model\n",
    "model.compile(optimizer='adam', loss='binary_crossentropy', metrics=['acc'])\n",
    "# summarize the model\n",
    "print(model.summary())\n",
    "\n",
    "model.fit(padded_docs, y, epochs=10, verbose=1,batch_size=64,validation_data=(X_test, y_test))\n",
    "# evaluate the model\n",
    "loss, accuracy = model.evaluate(padded_docs, y, verbose=1)\n",
    "print('Accuracy: %f' % (accuracy*100))\n",
    "model.save('lab4.h5')"
   ]
  },
  {
   "cell_type": "code",
   "execution_count": null,
   "metadata": {
    "collapsed": true
   },
   "outputs": [],
   "source": []
  }
 ],
 "metadata": {
  "anaconda-cloud": {},
  "kernelspec": {
   "display_name": "Python [conda root]",
   "language": "python",
   "name": "conda-root-py"
  },
  "language_info": {
   "codemirror_mode": {
    "name": "ipython",
    "version": 3
   },
   "file_extension": ".py",
   "mimetype": "text/x-python",
   "name": "python",
   "nbconvert_exporter": "python",
   "pygments_lexer": "ipython3",
   "version": "3.5.2"
  }
 },
 "nbformat": 4,
 "nbformat_minor": 1
}
